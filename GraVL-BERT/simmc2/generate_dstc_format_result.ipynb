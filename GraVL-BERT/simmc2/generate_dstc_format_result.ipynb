{
 "cells": [
  {
   "cell_type": "code",
   "execution_count": 2,
   "id": "3423251e",
   "metadata": {},
   "outputs": [],
   "source": [
    "import json\n",
    "import numpy as np"
   ]
  },
  {
   "cell_type": "code",
   "execution_count": 12,
   "id": "dcf703cc",
   "metadata": {},
   "outputs": [],
   "source": [
    "pred_path = '/Users/danfengg/Documents/VL-BERT/simmc2/results/devtest/devtest_34_2.json'\n",
    "pred = json.load(open(pred_path, 'r'))[0]\n",
    "ori_path = '/Users/danfengg/Documents/labels/simmc2_dials_dstc10_devtest.json'\n",
    "ori = json.load(open(ori_path, 'r'))['dialogue_data']\n",
    "label_path = '/Users/danfengg/Documents/proc_labels/devtest_preprocessed_v3.json'\n",
    "label = json.load(open(label_path, 'r'))['data']\n",
    "save_path = '/Users/danfengg/Documents/VL-BERT/simmc2/results/devtest/results_dstc_34_2.json'"
   ]
  },
  {
   "cell_type": "code",
   "execution_count": 13,
   "id": "42cb5780",
   "metadata": {},
   "outputs": [],
   "source": [
    "cur_dlg_index = None\n",
    "mentioned_objs_dlevel = []\n",
    "for ind, logits in enumerate(pred['answer_logits']):\n",
    "    objs = label[ind]['objects']\n",
    "    turn_index = label[ind]['turn_index']\n",
    "    dlg_index = label[ind]['dialogue_index']\n",
    "    if cur_dlg_index == None:\n",
    "        cur_dlg_index = dlg_index\n",
    "    if cur_dlg_index != dlg_index:\n",
    "        mentioned_objs_dlevel = []\n",
    "        cur_dlg_index = dlg_index\n",
    "    ref_objs = [objs[i] for i in range(len(objs)) if logits[i] > 0.5]\n",
    "    ref_objs = [int(i.replace('[OBJ', '').replace(']', '')) for i in ref_objs]\n",
    "    mentioned_objs_dlevel += ref_objs\n",
    "    ori[cur_dlg_index]['mentioned_object_ids'] = mentioned_objs_dlevel\n",
    "    ori[cur_dlg_index]['dialogue'][turn_index]['transcript_annotated']['act_attributes']['objects'] = ref_objs\n",
    "\n",
    "json.dump({\"dialogue_data\": ori}, open(save_path, 'w'))\n",
    "    "
   ]
  },
  {
   "cell_type": "code",
   "execution_count": 9,
   "id": "53417566",
   "metadata": {},
   "outputs": [
    {
     "data": {
      "text/plain": [
       "['[OBJ55]',\n",
       " '[OBJ56]',\n",
       " '[OBJ85]',\n",
       " '[OBJ57]',\n",
       " '[OBJ59]',\n",
       " '[OBJ58]',\n",
       " '[OBJ86]',\n",
       " '[OBJ62]',\n",
       " '[OBJ63]',\n",
       " '[OBJ87]',\n",
       " '[OBJ65]',\n",
       " '[OBJ61]']"
      ]
     },
     "execution_count": 9,
     "metadata": {},
     "output_type": "execute_result"
    }
   ],
   "source": [
    "objs"
   ]
  },
  {
   "cell_type": "code",
   "execution_count": 10,
   "id": "b01dd111",
   "metadata": {},
   "outputs": [
    {
     "data": {
      "text/plain": [
       "[1.6397616775520873e-07,\n",
       " 1.7241451644167682e-07,\n",
       " 2.2009579936366208e-07,\n",
       " 2.331348838424674e-07,\n",
       " 1.846036496999659e-07,\n",
       " 1.554741260179071e-07,\n",
       " 1.5930504559946712e-07,\n",
       " 6.760643009329215e-05,\n",
       " 2.3868309995123127e-07,\n",
       " 0.9997523427009583,\n",
       " 1.249317307383535e-07]"
      ]
     },
     "execution_count": 10,
     "metadata": {},
     "output_type": "execute_result"
    }
   ],
   "source": [
    "logits"
   ]
  },
  {
   "cell_type": "code",
   "execution_count": 11,
   "id": "d997d169",
   "metadata": {},
   "outputs": [
    {
     "name": "stdout",
     "output_type": "stream",
     "text": [
      "12\n",
      "11\n"
     ]
    }
   ],
   "source": [
    "print(len(objs))\n",
    "print(len(logits))"
   ]
  },
  {
   "cell_type": "code",
   "execution_count": null,
   "id": "10647225",
   "metadata": {},
   "outputs": [],
   "source": []
  }
 ],
 "metadata": {
  "kernelspec": {
   "display_name": "Python 3",
   "language": "python",
   "name": "python3"
  },
  "language_info": {
   "codemirror_mode": {
    "name": "ipython",
    "version": 3
   },
   "file_extension": ".py",
   "mimetype": "text/x-python",
   "name": "python",
   "nbconvert_exporter": "python",
   "pygments_lexer": "ipython3",
   "version": "3.8.8"
  }
 },
 "nbformat": 4,
 "nbformat_minor": 5
}
